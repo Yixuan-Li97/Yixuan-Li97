{
  "nbformat": 4,
  "nbformat_minor": 0,
  "metadata": {
    "colab": {
      "name": "Requesting API, time series, geographic visualization.ipynb",
      "provenance": [],
      "collapsed_sections": []
    },
    "kernelspec": {
      "name": "python3",
      "display_name": "Python 3"
    },
    "language_info": {
      "name": "python"
    }
  },
  "cells": [
    {
      "cell_type": "markdown",
      "source": [
        "# Minicase: requesting API, time series, geographic visualization"
      ],
      "metadata": {
        "id": "0xOCNZZDliu4"
      }
    },
    {
      "cell_type": "markdown",
      "source": [
        "### Activity 1"
      ],
      "metadata": {
        "id": "F0pXL0S8lnLn"
      }
    },
    {
      "cell_type": "code",
      "execution_count": null,
      "metadata": {
        "id": "5FiTRiBWlTMd",
        "colab": {
          "base_uri": "https://localhost:8080/"
        },
        "outputId": "01345999-6189-488e-c7fe-d52920f66c5d"
      },
      "outputs": [
        {
          "output_type": "stream",
          "name": "stdout",
          "text": [
            "[[\"NAME\",\"B01001_001E\",\"state\"],\n",
            "[\"Pennsylvania\",\"12807060\",\"42\"]]\n"
          ]
        }
      ],
      "source": [
        "# request the api\n",
        "import requests\n",
        "\n",
        "#base url\n",
        "host=\"https://api.census.gov/data\"\n",
        "year=\"2018\"\n",
        "dataset=\"acs/acs1\"\n",
        "\n",
        "base_url=\"/\".join([host,year,dataset])\n",
        "\n",
        "penn_pop={}\n",
        "vars=[\"NAME\",\"B01001_001E\"]\n",
        "\n",
        "penn_pop[\"get\"]=','.join(vars)\n",
        "penn_pop[\"for\"]=\"state:42\"\n",
        "penn_pop[\"key\"]=\"8ce3cc7c48f3945f792c86ea3cdc7c0e6d374aea\"\n",
        "r=requests.get(base_url, params=penn_pop)\n",
        "\n",
        "# print the result\n",
        "print(r.text)"
      ]
    },
    {
      "cell_type": "code",
      "source": [
        "penn_pop"
      ],
      "metadata": {
        "colab": {
          "base_uri": "https://localhost:8080/"
        },
        "id": "_dhOq0ET5mvC",
        "outputId": "3e8e662b-6591-4c13-a44b-2a5659c0b2f6"
      },
      "execution_count": null,
      "outputs": [
        {
          "output_type": "execute_result",
          "data": {
            "text/plain": [
              "{'for': 'state:42',\n",
              " 'get': 'NAME,B01001_001E',\n",
              " 'key': '8ce3cc7c48f3945f792c86ea3cdc7c0e6d374aea'}"
            ]
          },
          "metadata": {},
          "execution_count": 37
        }
      ]
    },
    {
      "cell_type": "markdown",
      "source": [
        "### Activity 2"
      ],
      "metadata": {
        "id": "seWBg21SmhgP"
      }
    },
    {
      "cell_type": "markdown",
      "source": [
        "#### Get the basic data of each ticker in 2020"
      ],
      "metadata": {
        "id": "Ihmhot5fSQ1h"
      }
    },
    {
      "cell_type": "code",
      "source": [
        "import requests\n",
        "import pandas as pd\n",
        "\n",
        "# get the F stock data\n",
        "url_F = 'https://www.alphavantage.co/query?function=TIME_SERIES_DAILY_ADJUSTED&symbol=F&outputsize=full&apikey=NUUMZP4K0W95QVKE'\n",
        "r_F = requests.get(url_F)\n",
        "\n",
        "data_F = r_F.json()\n",
        "df_F =pd.DataFrame(data_F['Time Series (Daily)'],dtype=float).T\n",
        "df_F.index=pd.DatetimeIndex(df_F.index) # transfer the index to the format which can be conducted time-series analysis\n",
        "df_F=df_F['2020-12-31':'2020-01-01'].iloc[::-1].drop(columns=['6. volume','7. dividend amount','8. split coefficient']) # adjust the dataframe to the ideal shape \n",
        "df_F['Ticker']='F'\n",
        "\n",
        "df_F"
      ],
      "metadata": {
        "colab": {
          "base_uri": "https://localhost:8080/",
          "height": 424
        },
        "id": "gSU4PLZpm5L3",
        "outputId": "5de3cb75-4315-4ab1-e930-3e51e5dea5cb"
      },
      "execution_count": null,
      "outputs": [
        {
          "output_type": "execute_result",
          "data": {
            "text/html": [
              "<div>\n",
              "<style scoped>\n",
              "    .dataframe tbody tr th:only-of-type {\n",
              "        vertical-align: middle;\n",
              "    }\n",
              "\n",
              "    .dataframe tbody tr th {\n",
              "        vertical-align: top;\n",
              "    }\n",
              "\n",
              "    .dataframe thead th {\n",
              "        text-align: right;\n",
              "    }\n",
              "</style>\n",
              "<table border=\"1\" class=\"dataframe\">\n",
              "  <thead>\n",
              "    <tr style=\"text-align: right;\">\n",
              "      <th></th>\n",
              "      <th>1. open</th>\n",
              "      <th>2. high</th>\n",
              "      <th>3. low</th>\n",
              "      <th>4. close</th>\n",
              "      <th>5. adjusted close</th>\n",
              "      <th>Ticker</th>\n",
              "    </tr>\n",
              "  </thead>\n",
              "  <tbody>\n",
              "    <tr>\n",
              "      <th>2020-01-02</th>\n",
              "      <td>9.29</td>\n",
              "      <td>9.42</td>\n",
              "      <td>9.1900</td>\n",
              "      <td>9.42</td>\n",
              "      <td>9.216057</td>\n",
              "      <td>F</td>\n",
              "    </tr>\n",
              "    <tr>\n",
              "      <th>2020-01-03</th>\n",
              "      <td>9.31</td>\n",
              "      <td>9.37</td>\n",
              "      <td>9.1500</td>\n",
              "      <td>9.21</td>\n",
              "      <td>9.010604</td>\n",
              "      <td>F</td>\n",
              "    </tr>\n",
              "    <tr>\n",
              "      <th>2020-01-06</th>\n",
              "      <td>9.10</td>\n",
              "      <td>9.17</td>\n",
              "      <td>9.0600</td>\n",
              "      <td>9.16</td>\n",
              "      <td>8.961686</td>\n",
              "      <td>F</td>\n",
              "    </tr>\n",
              "    <tr>\n",
              "      <th>2020-01-07</th>\n",
              "      <td>9.20</td>\n",
              "      <td>9.25</td>\n",
              "      <td>9.1200</td>\n",
              "      <td>9.25</td>\n",
              "      <td>9.049738</td>\n",
              "      <td>F</td>\n",
              "    </tr>\n",
              "    <tr>\n",
              "      <th>2020-01-08</th>\n",
              "      <td>9.23</td>\n",
              "      <td>9.30</td>\n",
              "      <td>9.1700</td>\n",
              "      <td>9.25</td>\n",
              "      <td>9.049738</td>\n",
              "      <td>F</td>\n",
              "    </tr>\n",
              "    <tr>\n",
              "      <th>...</th>\n",
              "      <td>...</td>\n",
              "      <td>...</td>\n",
              "      <td>...</td>\n",
              "      <td>...</td>\n",
              "      <td>...</td>\n",
              "      <td>...</td>\n",
              "    </tr>\n",
              "    <tr>\n",
              "      <th>2020-12-24</th>\n",
              "      <td>9.01</td>\n",
              "      <td>9.02</td>\n",
              "      <td>8.8000</td>\n",
              "      <td>8.86</td>\n",
              "      <td>8.814934</td>\n",
              "      <td>F</td>\n",
              "    </tr>\n",
              "    <tr>\n",
              "      <th>2020-12-28</th>\n",
              "      <td>8.92</td>\n",
              "      <td>8.98</td>\n",
              "      <td>8.8607</td>\n",
              "      <td>8.89</td>\n",
              "      <td>8.844781</td>\n",
              "      <td>F</td>\n",
              "    </tr>\n",
              "    <tr>\n",
              "      <th>2020-12-29</th>\n",
              "      <td>8.93</td>\n",
              "      <td>8.93</td>\n",
              "      <td>8.7800</td>\n",
              "      <td>8.82</td>\n",
              "      <td>8.775137</td>\n",
              "      <td>F</td>\n",
              "    </tr>\n",
              "    <tr>\n",
              "      <th>2020-12-30</th>\n",
              "      <td>8.83</td>\n",
              "      <td>8.92</td>\n",
              "      <td>8.8100</td>\n",
              "      <td>8.86</td>\n",
              "      <td>8.814934</td>\n",
              "      <td>F</td>\n",
              "    </tr>\n",
              "    <tr>\n",
              "      <th>2020-12-31</th>\n",
              "      <td>8.84</td>\n",
              "      <td>8.86</td>\n",
              "      <td>8.7800</td>\n",
              "      <td>8.79</td>\n",
              "      <td>8.745290</td>\n",
              "      <td>F</td>\n",
              "    </tr>\n",
              "  </tbody>\n",
              "</table>\n",
              "<p>253 rows × 6 columns</p>\n",
              "</div>"
            ],
            "text/plain": [
              "            1. open  2. high  3. low  4. close  5. adjusted close Ticker\n",
              "2020-01-02     9.29     9.42  9.1900      9.42           9.216057      F\n",
              "2020-01-03     9.31     9.37  9.1500      9.21           9.010604      F\n",
              "2020-01-06     9.10     9.17  9.0600      9.16           8.961686      F\n",
              "2020-01-07     9.20     9.25  9.1200      9.25           9.049738      F\n",
              "2020-01-08     9.23     9.30  9.1700      9.25           9.049738      F\n",
              "...             ...      ...     ...       ...                ...    ...\n",
              "2020-12-24     9.01     9.02  8.8000      8.86           8.814934      F\n",
              "2020-12-28     8.92     8.98  8.8607      8.89           8.844781      F\n",
              "2020-12-29     8.93     8.93  8.7800      8.82           8.775137      F\n",
              "2020-12-30     8.83     8.92  8.8100      8.86           8.814934      F\n",
              "2020-12-31     8.84     8.86  8.7800      8.79           8.745290      F\n",
              "\n",
              "[253 rows x 6 columns]"
            ]
          },
          "metadata": {},
          "execution_count": 95
        }
      ]
    },
    {
      "cell_type": "code",
      "source": [
        "# get the FCAU stock data\n",
        "url_FCAU = 'https://www.alphavantage.co/query?function=TIME_SERIES_DAILY_ADJUSTED&symbol=FCAU&outputsize=full&apikey=NUUMZP4K0W95QVKE'\n",
        "r_FCAU = requests.get(url_FCAU)\n",
        "\n",
        "data_FCAU = r_FCAU.json()\n",
        "df_FCAU =pd.DataFrame(data_FCAU['Time Series (Daily)'],dtype=float).T\n",
        "df_FCAU.index=pd.DatetimeIndex(df_FCAU.index) # transfer the index to the format which can be conducted time-series analysis\n",
        "df_FCAU=df_FCAU['2020-12-31':'2020-01-01'].iloc[::-1].drop(columns=['6. volume','7. dividend amount','8. split coefficient']) # adjust the dataframe to the ideal shape \n",
        "df_FCAU['Ticker']='FCAU'\n",
        "\n",
        "df_FCAU"
      ],
      "metadata": {
        "colab": {
          "base_uri": "https://localhost:8080/",
          "height": 424
        },
        "id": "zxiY-zjBR3yz",
        "outputId": "b3a59caa-4495-49ef-ad9e-e74e15f8c84a"
      },
      "execution_count": null,
      "outputs": [
        {
          "output_type": "execute_result",
          "data": {
            "text/html": [
              "<div>\n",
              "<style scoped>\n",
              "    .dataframe tbody tr th:only-of-type {\n",
              "        vertical-align: middle;\n",
              "    }\n",
              "\n",
              "    .dataframe tbody tr th {\n",
              "        vertical-align: top;\n",
              "    }\n",
              "\n",
              "    .dataframe thead th {\n",
              "        text-align: right;\n",
              "    }\n",
              "</style>\n",
              "<table border=\"1\" class=\"dataframe\">\n",
              "  <thead>\n",
              "    <tr style=\"text-align: right;\">\n",
              "      <th></th>\n",
              "      <th>1. open</th>\n",
              "      <th>2. high</th>\n",
              "      <th>3. low</th>\n",
              "      <th>4. close</th>\n",
              "      <th>5. adjusted close</th>\n",
              "      <th>Ticker</th>\n",
              "    </tr>\n",
              "  </thead>\n",
              "  <tbody>\n",
              "    <tr>\n",
              "      <th>2020-01-02</th>\n",
              "      <td>14.98</td>\n",
              "      <td>15.1000</td>\n",
              "      <td>14.9100</td>\n",
              "      <td>15.08</td>\n",
              "      <td>11.741927</td>\n",
              "      <td>FCAU</td>\n",
              "    </tr>\n",
              "    <tr>\n",
              "      <th>2020-01-03</th>\n",
              "      <td>14.64</td>\n",
              "      <td>14.6700</td>\n",
              "      <td>14.4900</td>\n",
              "      <td>14.49</td>\n",
              "      <td>11.282528</td>\n",
              "      <td>FCAU</td>\n",
              "    </tr>\n",
              "    <tr>\n",
              "      <th>2020-01-06</th>\n",
              "      <td>14.33</td>\n",
              "      <td>14.4600</td>\n",
              "      <td>14.3300</td>\n",
              "      <td>14.45</td>\n",
              "      <td>11.251383</td>\n",
              "      <td>FCAU</td>\n",
              "    </tr>\n",
              "    <tr>\n",
              "      <th>2020-01-07</th>\n",
              "      <td>14.46</td>\n",
              "      <td>14.5000</td>\n",
              "      <td>14.1700</td>\n",
              "      <td>14.19</td>\n",
              "      <td>11.048936</td>\n",
              "      <td>FCAU</td>\n",
              "    </tr>\n",
              "    <tr>\n",
              "      <th>2020-01-08</th>\n",
              "      <td>14.27</td>\n",
              "      <td>14.3400</td>\n",
              "      <td>14.1900</td>\n",
              "      <td>14.25</td>\n",
              "      <td>11.095654</td>\n",
              "      <td>FCAU</td>\n",
              "    </tr>\n",
              "    <tr>\n",
              "      <th>...</th>\n",
              "      <td>...</td>\n",
              "      <td>...</td>\n",
              "      <td>...</td>\n",
              "      <td>...</td>\n",
              "      <td>...</td>\n",
              "      <td>...</td>\n",
              "    </tr>\n",
              "    <tr>\n",
              "      <th>2020-12-24</th>\n",
              "      <td>17.77</td>\n",
              "      <td>17.8142</td>\n",
              "      <td>17.5816</td>\n",
              "      <td>17.68</td>\n",
              "      <td>15.087894</td>\n",
              "      <td>FCAU</td>\n",
              "    </tr>\n",
              "    <tr>\n",
              "      <th>2020-12-28</th>\n",
              "      <td>18.12</td>\n",
              "      <td>18.2099</td>\n",
              "      <td>17.9700</td>\n",
              "      <td>18.00</td>\n",
              "      <td>15.360978</td>\n",
              "      <td>FCAU</td>\n",
              "    </tr>\n",
              "    <tr>\n",
              "      <th>2020-12-29</th>\n",
              "      <td>18.11</td>\n",
              "      <td>18.1300</td>\n",
              "      <td>17.8750</td>\n",
              "      <td>17.98</td>\n",
              "      <td>15.343910</td>\n",
              "      <td>FCAU</td>\n",
              "    </tr>\n",
              "    <tr>\n",
              "      <th>2020-12-30</th>\n",
              "      <td>18.07</td>\n",
              "      <td>19.5000</td>\n",
              "      <td>17.9800</td>\n",
              "      <td>18.12</td>\n",
              "      <td>15.463384</td>\n",
              "      <td>FCAU</td>\n",
              "    </tr>\n",
              "    <tr>\n",
              "      <th>2020-12-31</th>\n",
              "      <td>18.01</td>\n",
              "      <td>18.1400</td>\n",
              "      <td>17.9900</td>\n",
              "      <td>18.09</td>\n",
              "      <td>15.437783</td>\n",
              "      <td>FCAU</td>\n",
              "    </tr>\n",
              "  </tbody>\n",
              "</table>\n",
              "<p>253 rows × 6 columns</p>\n",
              "</div>"
            ],
            "text/plain": [
              "            1. open  2. high   3. low  4. close  5. adjusted close Ticker\n",
              "2020-01-02    14.98  15.1000  14.9100     15.08          11.741927   FCAU\n",
              "2020-01-03    14.64  14.6700  14.4900     14.49          11.282528   FCAU\n",
              "2020-01-06    14.33  14.4600  14.3300     14.45          11.251383   FCAU\n",
              "2020-01-07    14.46  14.5000  14.1700     14.19          11.048936   FCAU\n",
              "2020-01-08    14.27  14.3400  14.1900     14.25          11.095654   FCAU\n",
              "...             ...      ...      ...       ...                ...    ...\n",
              "2020-12-24    17.77  17.8142  17.5816     17.68          15.087894   FCAU\n",
              "2020-12-28    18.12  18.2099  17.9700     18.00          15.360978   FCAU\n",
              "2020-12-29    18.11  18.1300  17.8750     17.98          15.343910   FCAU\n",
              "2020-12-30    18.07  19.5000  17.9800     18.12          15.463384   FCAU\n",
              "2020-12-31    18.01  18.1400  17.9900     18.09          15.437783   FCAU\n",
              "\n",
              "[253 rows x 6 columns]"
            ]
          },
          "metadata": {},
          "execution_count": 96
        }
      ]
    },
    {
      "cell_type": "code",
      "source": [
        "# get the GM stock data\n",
        "url_GM = 'https://www.alphavantage.co/query?function=TIME_SERIES_DAILY_ADJUSTED&symbol=GM&outputsize=full&apikey=NUUMZP4K0W95QVKE'\n",
        "r_GM = requests.get(url_GM)\n",
        "\n",
        "data_GM = r_GM.json()\n",
        "df_GM =pd.DataFrame(data_GM['Time Series (Daily)'],dtype=float).T\n",
        "df_GM.index=pd.DatetimeIndex(df_GM.index) # transfer the index to the format which can be conducted time-series analysis\n",
        "df_GM=df_GM['2020-12-31':'2020-01-01'].iloc[::-1]\\\n",
        "      .drop(columns=['6. volume','7. dividend amount','8. split coefficient']) # adjust the dataframe to the ideal shape \n",
        "df_GM['Ticker']='GM'\n",
        "\n",
        "df_GM"
      ],
      "metadata": {
        "colab": {
          "base_uri": "https://localhost:8080/",
          "height": 424
        },
        "id": "Kbr8R63tSPH2",
        "outputId": "f4cd3fbc-7eb7-4db5-fc93-3137f8160541"
      },
      "execution_count": null,
      "outputs": [
        {
          "output_type": "execute_result",
          "data": {
            "text/html": [
              "<div>\n",
              "<style scoped>\n",
              "    .dataframe tbody tr th:only-of-type {\n",
              "        vertical-align: middle;\n",
              "    }\n",
              "\n",
              "    .dataframe tbody tr th {\n",
              "        vertical-align: top;\n",
              "    }\n",
              "\n",
              "    .dataframe thead th {\n",
              "        text-align: right;\n",
              "    }\n",
              "</style>\n",
              "<table border=\"1\" class=\"dataframe\">\n",
              "  <thead>\n",
              "    <tr style=\"text-align: right;\">\n",
              "      <th></th>\n",
              "      <th>1. open</th>\n",
              "      <th>2. high</th>\n",
              "      <th>3. low</th>\n",
              "      <th>4. close</th>\n",
              "      <th>5. adjusted close</th>\n",
              "      <th>Ticker</th>\n",
              "    </tr>\n",
              "  </thead>\n",
              "  <tbody>\n",
              "    <tr>\n",
              "      <th>2020-01-02</th>\n",
              "      <td>37.00</td>\n",
              "      <td>37.38</td>\n",
              "      <td>36.550</td>\n",
              "      <td>37.38</td>\n",
              "      <td>36.913976</td>\n",
              "      <td>GM</td>\n",
              "    </tr>\n",
              "    <tr>\n",
              "      <th>2020-01-03</th>\n",
              "      <td>36.73</td>\n",
              "      <td>36.92</td>\n",
              "      <td>36.110</td>\n",
              "      <td>36.32</td>\n",
              "      <td>35.867192</td>\n",
              "      <td>GM</td>\n",
              "    </tr>\n",
              "    <tr>\n",
              "      <th>2020-01-06</th>\n",
              "      <td>35.95</td>\n",
              "      <td>36.18</td>\n",
              "      <td>35.800</td>\n",
              "      <td>35.84</td>\n",
              "      <td>35.393176</td>\n",
              "      <td>GM</td>\n",
              "    </tr>\n",
              "    <tr>\n",
              "      <th>2020-01-07</th>\n",
              "      <td>35.75</td>\n",
              "      <td>35.84</td>\n",
              "      <td>34.740</td>\n",
              "      <td>35.15</td>\n",
              "      <td>34.711778</td>\n",
              "      <td>GM</td>\n",
              "    </tr>\n",
              "    <tr>\n",
              "      <th>2020-01-08</th>\n",
              "      <td>35.04</td>\n",
              "      <td>35.20</td>\n",
              "      <td>34.410</td>\n",
              "      <td>34.65</td>\n",
              "      <td>34.218012</td>\n",
              "      <td>GM</td>\n",
              "    </tr>\n",
              "    <tr>\n",
              "      <th>...</th>\n",
              "      <td>...</td>\n",
              "      <td>...</td>\n",
              "      <td>...</td>\n",
              "      <td>...</td>\n",
              "      <td>...</td>\n",
              "      <td>...</td>\n",
              "    </tr>\n",
              "    <tr>\n",
              "      <th>2020-12-24</th>\n",
              "      <td>42.06</td>\n",
              "      <td>42.20</td>\n",
              "      <td>41.205</td>\n",
              "      <td>41.58</td>\n",
              "      <td>41.580000</td>\n",
              "      <td>GM</td>\n",
              "    </tr>\n",
              "    <tr>\n",
              "      <th>2020-12-28</th>\n",
              "      <td>42.00</td>\n",
              "      <td>42.19</td>\n",
              "      <td>41.630</td>\n",
              "      <td>41.66</td>\n",
              "      <td>41.660000</td>\n",
              "      <td>GM</td>\n",
              "    </tr>\n",
              "    <tr>\n",
              "      <th>2020-12-29</th>\n",
              "      <td>41.89</td>\n",
              "      <td>42.13</td>\n",
              "      <td>41.370</td>\n",
              "      <td>41.57</td>\n",
              "      <td>41.570000</td>\n",
              "      <td>GM</td>\n",
              "    </tr>\n",
              "    <tr>\n",
              "      <th>2020-12-30</th>\n",
              "      <td>41.65</td>\n",
              "      <td>42.20</td>\n",
              "      <td>41.570</td>\n",
              "      <td>41.84</td>\n",
              "      <td>41.840000</td>\n",
              "      <td>GM</td>\n",
              "    </tr>\n",
              "    <tr>\n",
              "      <th>2020-12-31</th>\n",
              "      <td>41.76</td>\n",
              "      <td>41.80</td>\n",
              "      <td>41.200</td>\n",
              "      <td>41.64</td>\n",
              "      <td>41.640000</td>\n",
              "      <td>GM</td>\n",
              "    </tr>\n",
              "  </tbody>\n",
              "</table>\n",
              "<p>253 rows × 6 columns</p>\n",
              "</div>"
            ],
            "text/plain": [
              "            1. open  2. high  3. low  4. close  5. adjusted close Ticker\n",
              "2020-01-02    37.00    37.38  36.550     37.38          36.913976     GM\n",
              "2020-01-03    36.73    36.92  36.110     36.32          35.867192     GM\n",
              "2020-01-06    35.95    36.18  35.800     35.84          35.393176     GM\n",
              "2020-01-07    35.75    35.84  34.740     35.15          34.711778     GM\n",
              "2020-01-08    35.04    35.20  34.410     34.65          34.218012     GM\n",
              "...             ...      ...     ...       ...                ...    ...\n",
              "2020-12-24    42.06    42.20  41.205     41.58          41.580000     GM\n",
              "2020-12-28    42.00    42.19  41.630     41.66          41.660000     GM\n",
              "2020-12-29    41.89    42.13  41.370     41.57          41.570000     GM\n",
              "2020-12-30    41.65    42.20  41.570     41.84          41.840000     GM\n",
              "2020-12-31    41.76    41.80  41.200     41.64          41.640000     GM\n",
              "\n",
              "[253 rows x 6 columns]"
            ]
          },
          "metadata": {},
          "execution_count": 116
        }
      ]
    },
    {
      "cell_type": "markdown",
      "source": [
        "#### Do the data visualization"
      ],
      "metadata": {
        "id": "0TZAdJ4kSmFM"
      }
    },
    {
      "cell_type": "code",
      "source": [
        "# I will use adjusted close price to compare three stocks\n",
        "import matplotlib.pyplot as plt\n",
        "\n",
        "plt.figure(figsize=(20,5))\n",
        "df_F['5. adjusted close'].rename('F').plot()\n",
        "df_FCAU['5. adjusted close'].rename('FCAU').plot()\n",
        "df_GM['5. adjusted close'].rename('GM').plot()\n",
        "plt.title(\"Daily Adjusted Close Price for F, FCAU, GM in 2020\", fontsize=14)\n",
        "plt.legend(fontsize=10)\n",
        "plt.grid()\n",
        "plt.show()\n"
      ],
      "metadata": {
        "colab": {
          "base_uri": "https://localhost:8080/",
          "height": 329
        },
        "id": "WKyMiQ0TSp2D",
        "outputId": "a8c94871-cea4-461c-c799-4f0cb51bea92"
      },
      "execution_count": null,
      "outputs": [
        {
          "output_type": "display_data",
          "data": {
            "image/png": "[encoded data removed]",
            "text/plain": [
              "<Figure size 1440x360 with 1 Axes>"
            ]
          },
          "metadata": {
            "needs_background": "light"
          }
        }
      ]
    },
    {
      "cell_type": "markdown",
      "source": [
        "I draw the above figure based on the daily adjusted close prices of three stocks. It proves that GM has the best performance in 2020 because it has the much higher prices than other two stocks."
      ],
      "metadata": {
        "id": "GW-1W8bnasjw"
      }
    },
    {
      "cell_type": "markdown",
      "source": [
        "### Activity 3\n"
      ],
      "metadata": {
        "id": "Wkw4p4Njm5a-"
      }
    },
    {
      "cell_type": "code",
      "source": [
        "!pip install geopandas"
      ],
      "metadata": {
        "id": "1pHNT2TjbOsu",
        "colab": {
          "base_uri": "https://localhost:8080/"
        },
        "outputId": "9e61347a-ea0a-4689-a1c0-632e068f11eb"
      },
      "execution_count": null,
      "outputs": [
        {
          "output_type": "stream",
          "name": "stdout",
          "text": [
            "Collecting geopandas\n",
            "  Downloading geopandas-0.10.2-py2.py3-none-any.whl (1.0 MB)\n",
            "\u001b[K     |████████████████████████████████| 1.0 MB 7.7 MB/s \n",
            "\u001b[?25hCollecting fiona>=1.8\n",
            "  Downloading Fiona-1.8.20-cp37-cp37m-manylinux1_x86_64.whl (15.4 MB)\n",
            "\u001b[K     |████████████████████████████████| 15.4 MB 25.6 MB/s \n",
            "\u001b[?25hRequirement already satisfied: pandas>=0.25.0 in /usr/local/lib/python3.7/dist-packages (from geopandas) (1.1.5)\n",
            "Collecting pyproj>=2.2.0\n",
            "  Downloading pyproj-3.2.1-cp37-cp37m-manylinux2010_x86_64.whl (6.3 MB)\n",
            "\u001b[K     |████████████████████████████████| 6.3 MB 32.2 MB/s \n",
            "\u001b[?25hRequirement already satisfied: shapely>=1.6 in /usr/local/lib/python3.7/dist-packages (from geopandas) (1.8.0)\n",
            "Collecting cligj>=0.5\n",
            "  Downloading cligj-0.7.2-py3-none-any.whl (7.1 kB)\n",
            "Requirement already satisfied: setuptools in /usr/local/lib/python3.7/dist-packages (from fiona>=1.8->geopandas) (57.4.0)\n",
            "Collecting click-plugins>=1.0\n",
            "  Downloading click_plugins-1.1.1-py2.py3-none-any.whl (7.5 kB)\n",
            "Requirement already satisfied: attrs>=17 in /usr/local/lib/python3.7/dist-packages (from fiona>=1.8->geopandas) (21.2.0)\n",
            "Requirement already satisfied: certifi in /usr/local/lib/python3.7/dist-packages (from fiona>=1.8->geopandas) (2021.10.8)\n",
            "Requirement already satisfied: click>=4.0 in /usr/local/lib/python3.7/dist-packages (from fiona>=1.8->geopandas) (7.1.2)\n",
            "Requirement already satisfied: six>=1.7 in /usr/local/lib/python3.7/dist-packages (from fiona>=1.8->geopandas) (1.15.0)\n",
            "Collecting munch\n",
            "  Downloading munch-2.5.0-py2.py3-none-any.whl (10 kB)\n",
            "Requirement already satisfied: numpy>=1.15.4 in /usr/local/lib/python3.7/dist-packages (from pandas>=0.25.0->geopandas) (1.19.5)\n",
            "Requirement already satisfied: python-dateutil>=2.7.3 in /usr/local/lib/python3.7/dist-packages (from pandas>=0.25.0->geopandas) (2.8.2)\n",
            "Requirement already satisfied: pytz>=2017.2 in /usr/local/lib/python3.7/dist-packages (from pandas>=0.25.0->geopandas) (2018.9)\n",
            "Installing collected packages: munch, cligj, click-plugins, pyproj, fiona, geopandas\n",
            "Successfully installed click-plugins-1.1.1 cligj-0.7.2 fiona-1.8.20 geopandas-0.10.2 munch-2.5.0 pyproj-3.2.1\n"
          ]
        }
      ]
    },
    {
      "cell_type": "code",
      "source": [
        "import geopandas\n",
        "import pandas as pd\n",
        "import matplotlib.pyplot as plt\n",
        "from shapely.geometry import Point\n",
        "%matplotlib inline"
      ],
      "metadata": {
        "id": "vyK7Y5B4lPXN"
      },
      "execution_count": null,
      "outputs": []
    },
    {
      "cell_type": "code",
      "source": [
        "world = geopandas.read_file(geopandas.datasets.get_path('naturalearth_lowres'))"
      ],
      "metadata": {
        "id": "2tSCQ9eejJFZ"
      },
      "execution_count": null,
      "outputs": []
    },
    {
      "cell_type": "code",
      "source": [
        "cities=geopandas.read_file(geopandas.datasets.get_path(\"naturalearth_cities\"))\n",
        "cities\n",
        "# I will use Singapore, Paris and Beijing to finish this activity"
      ],
      "metadata": {
        "colab": {
          "base_uri": "https://localhost:8080/",
          "height": 424
        },
        "id": "5poMGsXklbj6",
        "outputId": "a7cda2fd-868b-4032-aa19-945bafafc6f7"
      },
      "execution_count": null,
      "outputs": [
        {
          "output_type": "execute_result",
          "data": {
            "text/html": [
              "<div>\n",
              "<style scoped>\n",
              "    .dataframe tbody tr th:only-of-type {\n",
              "        vertical-align: middle;\n",
              "    }\n",
              "\n",
              "    .dataframe tbody tr th {\n",
              "        vertical-align: top;\n",
              "    }\n",
              "\n",
              "    .dataframe thead th {\n",
              "        text-align: right;\n",
              "    }\n",
              "</style>\n",
              "<table border=\"1\" class=\"dataframe\">\n",
              "  <thead>\n",
              "    <tr style=\"text-align: right;\">\n",
              "      <th></th>\n",
              "      <th>name</th>\n",
              "      <th>geometry</th>\n",
              "    </tr>\n",
              "  </thead>\n",
              "  <tbody>\n",
              "    <tr>\n",
              "      <th>0</th>\n",
              "      <td>Vatican City</td>\n",
              "      <td>POINT (12.45339 41.90328)</td>\n",
              "    </tr>\n",
              "    <tr>\n",
              "      <th>1</th>\n",
              "      <td>San Marino</td>\n",
              "      <td>POINT (12.44177 43.93610)</td>\n",
              "    </tr>\n",
              "    <tr>\n",
              "      <th>2</th>\n",
              "      <td>Vaduz</td>\n",
              "      <td>POINT (9.51667 47.13372)</td>\n",
              "    </tr>\n",
              "    <tr>\n",
              "      <th>3</th>\n",
              "      <td>Luxembourg</td>\n",
              "      <td>POINT (6.13000 49.61166)</td>\n",
              "    </tr>\n",
              "    <tr>\n",
              "      <th>4</th>\n",
              "      <td>Palikir</td>\n",
              "      <td>POINT (158.14997 6.91664)</td>\n",
              "    </tr>\n",
              "    <tr>\n",
              "      <th>...</th>\n",
              "      <td>...</td>\n",
              "      <td>...</td>\n",
              "    </tr>\n",
              "    <tr>\n",
              "      <th>197</th>\n",
              "      <td>Cairo</td>\n",
              "      <td>POINT (31.24802 30.05191)</td>\n",
              "    </tr>\n",
              "    <tr>\n",
              "      <th>198</th>\n",
              "      <td>Tokyo</td>\n",
              "      <td>POINT (139.74946 35.68696)</td>\n",
              "    </tr>\n",
              "    <tr>\n",
              "      <th>199</th>\n",
              "      <td>Paris</td>\n",
              "      <td>POINT (2.33139 48.86864)</td>\n",
              "    </tr>\n",
              "    <tr>\n",
              "      <th>200</th>\n",
              "      <td>Santiago</td>\n",
              "      <td>POINT (-70.66899 -33.44807)</td>\n",
              "    </tr>\n",
              "    <tr>\n",
              "      <th>201</th>\n",
              "      <td>Singapore</td>\n",
              "      <td>POINT (103.85387 1.29498)</td>\n",
              "    </tr>\n",
              "  </tbody>\n",
              "</table>\n",
              "<p>202 rows × 2 columns</p>\n",
              "</div>"
            ],
            "text/plain": [
              "             name                     geometry\n",
              "0    Vatican City    POINT (12.45339 41.90328)\n",
              "1      San Marino    POINT (12.44177 43.93610)\n",
              "2           Vaduz     POINT (9.51667 47.13372)\n",
              "3      Luxembourg     POINT (6.13000 49.61166)\n",
              "4         Palikir    POINT (158.14997 6.91664)\n",
              "..            ...                          ...\n",
              "197         Cairo    POINT (31.24802 30.05191)\n",
              "198         Tokyo   POINT (139.74946 35.68696)\n",
              "199         Paris     POINT (2.33139 48.86864)\n",
              "200      Santiago  POINT (-70.66899 -33.44807)\n",
              "201     Singapore    POINT (103.85387 1.29498)\n",
              "\n",
              "[202 rows x 2 columns]"
            ]
          },
          "metadata": {},
          "execution_count": 4
        }
      ]
    },
    {
      "cell_type": "code",
      "source": [
        "ThreeCities=cities.query('name == [\"Singapore\",\"Beijing\",\"Paris\"]')\n",
        "ThreeCities"
      ],
      "metadata": {
        "colab": {
          "base_uri": "https://localhost:8080/",
          "height": 143
        },
        "id": "nzhyvfYnirHa",
        "outputId": "c3a41929-f99b-46fb-a921-e988fcff8354"
      },
      "execution_count": null,
      "outputs": [
        {
          "output_type": "execute_result",
          "data": {
            "text/html": [
              "<div>\n",
              "<style scoped>\n",
              "    .dataframe tbody tr th:only-of-type {\n",
              "        vertical-align: middle;\n",
              "    }\n",
              "\n",
              "    .dataframe tbody tr th {\n",
              "        vertical-align: top;\n",
              "    }\n",
              "\n",
              "    .dataframe thead th {\n",
              "        text-align: right;\n",
              "    }\n",
              "</style>\n",
              "<table border=\"1\" class=\"dataframe\">\n",
              "  <thead>\n",
              "    <tr style=\"text-align: right;\">\n",
              "      <th></th>\n",
              "      <th>name</th>\n",
              "      <th>geometry</th>\n",
              "    </tr>\n",
              "  </thead>\n",
              "  <tbody>\n",
              "    <tr>\n",
              "      <th>193</th>\n",
              "      <td>Beijing</td>\n",
              "      <td>POINT (116.38634 39.93084)</td>\n",
              "    </tr>\n",
              "    <tr>\n",
              "      <th>199</th>\n",
              "      <td>Paris</td>\n",
              "      <td>POINT (2.33139 48.86864)</td>\n",
              "    </tr>\n",
              "    <tr>\n",
              "      <th>201</th>\n",
              "      <td>Singapore</td>\n",
              "      <td>POINT (103.85387 1.29498)</td>\n",
              "    </tr>\n",
              "  </tbody>\n",
              "</table>\n",
              "</div>"
            ],
            "text/plain": [
              "          name                    geometry\n",
              "193    Beijing  POINT (116.38634 39.93084)\n",
              "199      Paris    POINT (2.33139 48.86864)\n",
              "201  Singapore   POINT (103.85387 1.29498)"
            ]
          },
          "metadata": {},
          "execution_count": 5
        }
      ]
    },
    {
      "cell_type": "code",
      "source": [
        "# get weather\n",
        "import requests\n",
        "auth='38f0a7aeb9bdcd048e978b8f98046b23'\n",
        "\n",
        "base_url = \"https://api.openweathermap.org/data/2.5/onecall\"\n",
        "\n",
        "\n",
        "ax = world.plot(figsize=(12,12), color=\"grey\")\n",
        "\n",
        "for i in range(len(ThreeCities)):\n",
        "  row = ThreeCities.iloc[i]\n",
        "  payload = {\n",
        "    \"appid\":auth,\n",
        "    \"lat\":row.geometry.y,\n",
        "    \"lon\":row.geometry.x,\n",
        "    \"exclude\":\"minutely,hourly,daily,alerts\"\n",
        "  }\n",
        "  weather = requests.get(base_url, params=payload).json()\n",
        "  kelvin = weather[\"current\"][\"temp\"] \n",
        "  t = int(((kelvin - 273.15) * 9 / 5) + 32)\n",
        "  print(f\"{row['name']} {t}\")\n",
        "  label = f\"{row['name']} {t}\"\n",
        "  plt.text(row.geometry.x, row.geometry.y, label, fontsize=16, color='red')"
      ],
      "metadata": {
        "colab": {
          "base_uri": "https://localhost:8080/",
          "height": 423
        },
        "id": "OqezQOvXiHhg",
        "outputId": "03e4eb2c-9158-4d8a-c30f-25774fcd9285"
      },
      "execution_count": null,
      "outputs": [
        {
          "output_type": "stream",
          "name": "stdout",
          "text": [
            "Beijing 34\n",
            "Paris 44\n",
            "Singapore 80\n"
          ]
        },
        {
          "output_type": "display_data",
          "data": {
            "image/png": "[encoded data removed]",
            "text/plain": [
              "<Figure size 864x864 with 1 Axes>"
            ]
          },
          "metadata": {
            "needs_background": "light"
          }
        }
      ]
    }
  ]
}