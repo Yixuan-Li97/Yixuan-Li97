{
  "nbformat": 4,
  "nbformat_minor": 0,
  "metadata": {
    "colab": {
      "name": "School Districts and Funding Analysis.ipynb",
      "provenance": [],
      "collapsed_sections": [],
      "toc_visible": true
    },
    "kernelspec": {
      "display_name": "Python 3",
      "name": "python3"
    }
  },
  "cells": [
    {
      "cell_type": "markdown",
      "metadata": {
        "id": "VfohmxKqLkHY"
      },
      "source": [
        "# chool Districts and Funding Analysis"
      ]
    },
    {
      "cell_type": "code",
      "metadata": {
        "id": "dUNfn_Q39pBP"
      },
      "source": [
        "from google.colab import files"
      ],
      "execution_count": null,
      "outputs": []
    },
    {
      "cell_type": "code",
      "metadata": {
        "id": "N1RwmoWk9dXv"
      },
      "source": [
        "files.upload() #upload district_statistics file"
      ],
      "execution_count": null,
      "outputs": []
    },
    {
      "cell_type": "code",
      "metadata": {
        "id": "C4xwH-q3uNGQ"
      },
      "source": [
        "files.upload() #upload state_sizes file"
      ],
      "execution_count": null,
      "outputs": []
    },
    {
      "cell_type": "markdown",
      "metadata": {
        "id": "cyaC6C3CBM8X"
      },
      "source": [
        "\n",
        "Included are two functions for your convenience that take as input each of the two files and converts them into data structures that you can use for your code."
      ]
    },
    {
      "cell_type": "code",
      "metadata": {
        "id": "R_szscDK9yjK"
      },
      "source": [
        "# This function takes one object as input:\n",
        "# populations_file: A filename where the file contains a spreadsheet with\n",
        "#                     exactly two columns: name in column 0, population in column 1\n",
        "# \n",
        "# This function returns a dictionary as output:\n",
        "#   states: Each key in this dictionary is a state name.\n",
        "#           The value is the population for that state, as found in the data file. \n",
        "# \n",
        "def build_state_populations_dictionary(populations_file):\n",
        "    states = {}\n",
        "    with open(populations_file) as states_file:\n",
        "        states_input = states_file.readlines()\n",
        "        header_row = []\n",
        "        i = 0\n",
        "        for row in states_input:\n",
        "            if i == 0:\n",
        "                header_row = row.split(\",\")\n",
        "            else:\n",
        "                state_row = row.split(\",\")\n",
        "                state_name = state_row[0].strip()\n",
        "                state_population = int(state_row[1].strip())\n",
        "                states[state_name] = state_population\n",
        "            i += 1\n",
        "    return states\n",
        "    \n",
        "# This function takes one object as input:\n",
        "#   districts_filename: A filename where the file contains a spreadsheet with\n",
        "#                       any number of columns.\n",
        "#\n",
        "# This header column is then followed by any number of rows. The function\n",
        "# attempts to convert the values to integers, or defaults to strings if it cannot.\n",
        "#\n",
        "# This function returns a list as output:\n",
        "#   districts_list: Each entry in this list is a dictionary representing\n",
        "#                   a single school district from our input file. Each dictionary\n",
        "#                   contains keys corresponding to the columns in the input file. \n",
        "#                   That means you can retrieve, for instance, the \n",
        "#                   total revenue of the first school district in the list:\n",
        "# \n",
        "#                           districts_list[0][\"revenue\"]\n",
        "# \n",
        "def build_districts_list(districts_filename):\n",
        "    districts_list = []\n",
        "    with open(districts_filename) as districts_file:\n",
        "        districts_input = districts_file.readlines()\n",
        "        row_number = 0\n",
        "        header_row = []\n",
        "        for row in districts_input:\n",
        "            if row_number == 0:\n",
        "                header_row = row.strip().split(\",\")\n",
        "            else:\n",
        "                district_row = row.split(\",\")\n",
        "                district_facts = {}\n",
        "                for column_number in range(len(district_row)):\n",
        "                    column_name = header_row[column_number]\n",
        "                    cell_value = district_row[column_number]\n",
        "                    try:\n",
        "                        cell_value = int(cell_value)\n",
        "                    except ValueError:\n",
        "                        pass\n",
        "                    district_facts[column_name] = cell_value\n",
        "                districts_list.append(district_facts)\n",
        "            row_number += 1\n",
        "    return districts_list"
      ],
      "execution_count": null,
      "outputs": []
    },
    {
      "cell_type": "code",
      "metadata": {
        "id": "fGBr74rr_OVo"
      },
      "source": [
        "state_populations = build_state_populations_dictionary(\"state_sizes.csv\")\n",
        "districts_list = build_districts_list(\"district_statistics.csv\")"
      ],
      "execution_count": null,
      "outputs": []
    },
    {
      "cell_type": "markdown",
      "metadata": {
        "id": "mX-LD4KZ9gWA"
      },
      "source": [
        "# Part 1\n",
        "\n",
        "In no less than 100 words, why might someone want to look at this data? Why would it matter?"
      ]
    },
    {
      "cell_type": "markdown",
      "metadata": {
        "id": "hiBygMyxRBbn"
      },
      "source": [
        "The data we use in the analysis consists of two parts: one is the population of each state in United States, and the other is about funding and expense details of public school districts in every state with the units of 1,000 dollars. The fundiung data includes expenses in each school district, total revenues and the breakdown of funding from federal, state and local governments.\n",
        "\n",
        "Through these two datasets, we can directly get information, and we can also go further through some mathematical formulas. We can directly know about each state, such as population, funding from all levels of governments to each public school districts, expenses each district costed, etc. Alos, we can know more using formulas and ratios, such as total funding in scale of states (adding up the data of all school districts in a state), budget deficitd of each state( gap between expenses and revenues), mean size of a school district in a state, etc. With these calculated date, we can easily make comparisons among each public school district and state and it helps readers get results and make the following decisions. \n",
        "\n",
        "Potential readers may be governemnt staff from education, finance, statistics and human development departments, policy makers, scholars like statisticians and sociologists, social media and so on. They can use these datasets to assess the operation of finance budgets, improve policies, do social research and make news reports. This data can give them inspriations from various aspects and help them select the most efficient methods and convincing data in their work.\n",
        "\n",
        "Yhrough this data, data scientists can answer questions as folloes :a) financial budget questions. For example, it can answer which state received the largest amount of funding from governments and which state spent the most expenses, and which state or school district had the largest budget deficit; b) population questions, such as which state had the largest population and the average size of a school district. Also, further questions like per capita people gave, average expenses of each person in the state can also be answered; c) comparstion questions. The data can help answer differences of funding situations among states and school districts. It can make contributions to assess budget usage efficiency among atate.\n",
        "\n"
      ]
    },
    {
      "cell_type": "markdown",
      "metadata": {
        "id": "6tb8aePE9lqQ"
      },
      "source": [
        "# Part 2\n"
      ]
    },
    {
      "cell_type": "markdown",
      "metadata": {
        "id": "E12evLeA-G8h"
      },
      "source": [
        "## Q1\n",
        "In our dataset, what percentage of school districts nationwide received more than $10,000,000 in local funding?\n"
      ]
    },
    {
      "cell_type": "code",
      "metadata": {
        "id": "GpBnlKivIep5"
      },
      "source": [
        "def q1_ten_million(districts_list):\n",
        "  count = 0  #count the number of local funding more than 10000\n",
        "  sum_districts = 0   #count the total number of districts\n",
        "  for item in districts_list:\n",
        "    if item['local_revenue'] > 10000:\n",
        "      count += 1 \n",
        "      sum_districts += 1\n",
        "    else:\n",
        "      sum_districts += 1\n",
        "  return print('The percentage of school districts nationwide received more than $10,000,000 in local funding is {:.2%}'.format(count / sum_districts))\n",
        "  "
      ],
      "execution_count": null,
      "outputs": []
    },
    {
      "cell_type": "code",
      "metadata": {
        "id": "d2VFJL0C_RSX",
        "colab": {
          "base_uri": "https://localhost:8080/"
        },
        "outputId": "edfe0466-a4ac-42eb-82f4-7c4d7836ce49"
      },
      "source": [
        "q1_ten_million(districts_list)"
      ],
      "execution_count": null,
      "outputs": [
        {
          "output_type": "stream",
          "name": "stdout",
          "text": [
            "The percentage of school districts nationwide received more than $10,000,000 in local funding is 30.30%\n"
          ]
        }
      ]
    },
    {
      "cell_type": "markdown",
      "metadata": {
        "id": "fRNkc7-4Cbqi"
      },
      "source": [
        "**Conclusion:**In our dataset, about ***30.30 percentage*** of school districts nationwide received more than $10,000,000 in local funding.\n",
        "\n"
      ]
    },
    {
      "cell_type": "markdown",
      "metadata": {
        "id": "QV3Fxcua-Ns9"
      },
      "source": [
        "## Q2\n",
        "\n",
        "In our dataset, among school districts with a total budget (expenses) of at least $1 billion, which has the shortest name? What state is that district in?\n"
      ]
    },
    {
      "cell_type": "code",
      "metadata": {
        "id": "DESbhk_3-T1i"
      },
      "source": [
        "def q2_shortest_billion_name(districts_list):\n",
        "  q2_list = [[item['name'],len(item['name']),item['state']] for item in districts_list if item['expenses'] > 1000000] # pick out the school districts with a total budget of at least $1 billion\n",
        "  shortest_length = min(q2_list, key = lambda x:x[1]) # find the shortest length among names\n",
        "  return print(shortest_length[0],'has the shortest name and the district is in',shortest_length[2])   "
      ],
      "execution_count": null,
      "outputs": []
    },
    {
      "cell_type": "code",
      "metadata": {
        "id": "MBRtSK0m_boJ",
        "colab": {
          "base_uri": "https://localhost:8080/"
        },
        "outputId": "63afa264-426a-4326-8365-8c492c984483"
      },
      "source": [
        "q2_shortest_billion_name(districts_list)"
      ],
      "execution_count": null,
      "outputs": [
        {
          "output_type": "stream",
          "name": "stdout",
          "text": [
            "DADE has the shortest name and the district is in Florida\n"
          ]
        }
      ]
    },
    {
      "cell_type": "markdown",
      "metadata": {
        "id": "NTWXHHhdDVse"
      },
      "source": [
        "**Conclusion:** ***DADE*** has the shortest name and the district is in ***Florida***."
      ]
    },
    {
      "cell_type": "markdown",
      "metadata": {
        "id": "PhleIk_w-Udh"
      },
      "source": [
        "##Q3\n",
        "\n",
        "Hawaii has only one school district, which covers the entire state. Across the rest of the United States, how many school districts had greater expenses than Hawaii did statewide?\n"
      ]
    },
    {
      "cell_type": "code",
      "metadata": {
        "id": "1cW8eXG0-f5a"
      },
      "source": [
        "def q3_larger_than_hawaii(districts_list):\n",
        "  Hawaii_expense = [item['expenses'] for item in districts_list if item['state'] == 'Hawaii'] #find the expenses of Hawaii\n",
        "  for i in Hawaii_expense:\n",
        "    Hawaii_expense = int(i)  #change the list to integer\n",
        "  count = 0\n",
        "  for item in districts_list: \n",
        "    if item['expenses'] > Hawaii_expense:\n",
        "      count += 1 # count the number of school districts\n",
        "    else:\n",
        "      pass\n",
        "  return print(count,'school districts had greater expenses than Hawaii did statewide.')"
      ],
      "execution_count": null,
      "outputs": []
    },
    {
      "cell_type": "code",
      "metadata": {
        "id": "QPUqnaPp_d2k",
        "colab": {
          "base_uri": "https://localhost:8080/"
        },
        "outputId": "23e3217f-c414-405e-bbc6-cbb0902881a7"
      },
      "source": [
        "q3_larger_than_hawaii(districts_list)"
      ],
      "execution_count": null,
      "outputs": [
        {
          "output_type": "stream",
          "name": "stdout",
          "text": [
            "8 school districts had greater expenses than Hawaii did statewide.\n"
          ]
        }
      ]
    },
    {
      "cell_type": "markdown",
      "metadata": {
        "id": "XcqwLWQdDi4J"
      },
      "source": [
        "**Conclusion:** Across the rest of the United States, ***eight school districts*** had greater expenses than Hawaii did statewide. "
      ]
    },
    {
      "cell_type": "markdown",
      "metadata": {
        "id": "-hOOVUY_-giE"
      },
      "source": [
        "## Q4\n",
        "\n",
        "The budget deficit of a school district is equal to its expenses minus its revenue. Which school district in Pennsylvania had the largest budget deficit? And how large was it?\n"
      ]
    },
    {
      "cell_type": "code",
      "metadata": {
        "id": "Axc6x92D-jj7"
      },
      "source": [
        "def q4_biggest_pennsylvania_district(districts_list):\n",
        "  q4_list = [[item['name'],(item['expenses'] - item['revenue'])] for item in districts_list if item['state'] == 'Pennsylvania'] # pick out pennsylvania information\n",
        "  l_budget_deficit = max(q4_list, key = lambda x:x[1])  #find the largest one \n",
        "  return print(l_budget_deficit[0],'in Pennsylvania had the largest budget deficit and the amount is',l_budget_deficit[1]*1000,'dollars')"
      ],
      "execution_count": null,
      "outputs": []
    },
    {
      "cell_type": "code",
      "metadata": {
        "id": "XsalhUCp_f9m",
        "colab": {
          "base_uri": "https://localhost:8080/"
        },
        "outputId": "f77cb8ab-a6d5-4f10-8412-0983e898bc53"
      },
      "source": [
        "q4_biggest_pennsylvania_district(districts_list)"
      ],
      "execution_count": null,
      "outputs": [
        {
          "output_type": "stream",
          "name": "stdout",
          "text": [
            "PENN HILLS SD in Pennsylvania had the largest budget deficit and the amount is 32789000 dollars\n"
          ]
        }
      ]
    },
    {
      "cell_type": "markdown",
      "metadata": {
        "id": "E_BdcgRtEImF"
      },
      "source": [
        "**Conclusion:** ***PENN HILLS SD*** in Pennsylvania had the largest budget deficit. And the amout is ***32,789,000 dollars***."
      ]
    },
    {
      "cell_type": "markdown",
      "metadata": {
        "id": "A2BrzckF-kLK"
      },
      "source": [
        "## Q5\n",
        "\n",
        "New England comprises the states Maine, Vermont, New Hampshire, Rhode Island, Massachusetts, and Connecticut. To calculate per capita statistics, you divide the total amount by the total population size. Which state in New England gave the most non-federal money (state and local combined) to schools? How much did they give per capita?"
      ]
    },
    {
      "cell_type": "code",
      "metadata": {
        "id": "aYiLF3ed0ro7"
      },
      "source": [
        "def q5_new_england_highest_per_capita(districts_list, state_populations):\n",
        "# calculate the total non-federal money of six states\n",
        "  states_list = ['Maine','Vermont','New Hampshire','Rhode Island','Massachusetts','Connecticut']\n",
        "  non_federal = {}  # create a list to store non-federal money of six states\n",
        "  for item in districts_list:\n",
        "    if item['state'] in states_list:\n",
        "      non_federal[item['state']] = non_federal.get(item['state'],0) + item['local_revenue'] + item['state_revenue']     \n",
        "    else:\n",
        "      pass\n",
        "\n",
        "  # calculate the per capita of every state\n",
        "  per_capita = {}\n",
        "  for key in state_populations:\n",
        "    if non_federal.get(key):\n",
        "      per_capita[key] = non_federal[key] / state_populations[key]\n",
        "\n",
        "  # find out the smallest mean size\n",
        "  for key,value in non_federal.items():\n",
        "      if(value == max(non_federal.values())):\n",
        "          result = [key,value]\n",
        "  return print(result[0],'in New England gave the most non-federal money to school. They gave',round((per_capita.get(result[0])*1000),2),'dollars per capita.')"
      ],
      "execution_count": null,
      "outputs": []
    },
    {
      "cell_type": "code",
      "metadata": {
        "id": "pCylnJQz_iBy",
        "colab": {
          "base_uri": "https://localhost:8080/"
        },
        "outputId": "c575e4dd-3c65-4bc4-f844-6d88fde1662a"
      },
      "source": [
        "q5_new_england_highest_per_capita(districts_list, state_populations)"
      ],
      "execution_count": null,
      "outputs": [
        {
          "output_type": "stream",
          "name": "stdout",
          "text": [
            "Massachusetts in New England gave the most non-federal money to school. They gave 2498.29 dollars per capita.\n"
          ]
        }
      ]
    },
    {
      "cell_type": "markdown",
      "metadata": {
        "id": "CnLlVVDxE6ra"
      },
      "source": [
        "**Conclusion:** ***Massachusetts*** in New England gave the most non-federal money to school. They gave ***2498.29 dollars*** per capita."
      ]
    },
    {
      "cell_type": "markdown",
      "metadata": {
        "id": "um2yb7wz-mPz"
      },
      "source": [
        "## Q6\n",
        "\n",
        "The mean size of a school district in a state is equal to the total population divided by the total number of school districts. Which state had the smallest mean school district size? How many people, on average, live in each school district in that state? "
      ]
    },
    {
      "cell_type": "code",
      "metadata": {
        "id": "ad4GTQra-nT2"
      },
      "source": [
        "def q6_smallest_mean_district_size(districts_list, state_populations):\n",
        "# count the number of school stricts in every state\n",
        "  state =[]\n",
        "  for item in districts_list:\n",
        "    state.append(item['state'])\n",
        "\n",
        "  state_cnt = {}\n",
        "  for i in state:\n",
        "    state_cnt[i] = state_cnt.get(i,0) + 1 \n",
        "  \n",
        "# calculate the mean size of every state\n",
        "  mean_size = {}\n",
        "  for key in state_populations:\n",
        "    if state_cnt.get(key):\n",
        "      mean_size[key] = state_populations[key] / state_cnt[key]\n",
        "\n",
        "# find out the smallest mean size\n",
        "  for key,value in mean_size.items():\n",
        "      if (value == min(mean_size.values())):\n",
        "          result = [key,value]\n",
        "  return print(result[0],'had the smallest mean school district size. About',int(result[1]),'people on average live in each school district in the state.')"
      ],
      "execution_count": null,
      "outputs": []
    },
    {
      "cell_type": "code",
      "metadata": {
        "id": "vXgGuHYm-15R",
        "colab": {
          "base_uri": "https://localhost:8080/"
        },
        "outputId": "da707068-dec6-410e-b5be-4fa1088eb26b"
      },
      "source": [
        "q6_smallest_mean_district_size(districts_list, state_populations)"
      ],
      "execution_count": null,
      "outputs": [
        {
          "output_type": "stream",
          "name": "stdout",
          "text": [
            "Vermont had the smallest mean school district size. About 1955 people on average live in each school district in the state.\n"
          ]
        }
      ]
    },
    {
      "cell_type": "markdown",
      "metadata": {
        "id": "wkwpuC5fF3GW"
      },
      "source": [
        "**Conclusion:** ***Vermont*** had the smallest mean school district size. About ***1955 people*** on average live in each school district in the state."
      ]
    },
    {
      "cell_type": "markdown",
      "metadata": {
        "id": "JF2olVvL_q75"
      },
      "source": [
        "# Part 3\n"
      ]
    },
    {
      "cell_type": "markdown",
      "metadata": {
        "id": "mtpFnYb4CXPF"
      },
      "source": [
        "\n",
        "## Q1 \n",
        "\n",
        "Say we are interested in judging which state receives the “best deal” in federal aid for schools. Decide on two different metrics to measure how much relative support a state receives (for instance, relative to its population or in comparison to other states). \n"
      ]
    },
    {
      "cell_type": "markdown",
      "metadata": {
        "id": "5EtNTuEvXbwC"
      },
      "source": [
        "***The first metric is the proportion of each state's federal funding in total funding.*** It is equal to the federal_revenue divided by revenue in the dataset of district_list. The metric can be used to descibe the funding components from all levels of governments and to compare which state had the largest prportion of funding from federal aid. The larger the number is, the relatively more support the state received from federal governments compared to others.\n",
        "\n",
        "***The second metric is the ratio of state's per capita to the federal average level.*** It is equal to each state's per capita divided by federal's per capita. If the ratio is greater than 1, it means that the state's per capita is higher than the federal average. The larger the ratio is, the more federal aid people received. We are going to find the largest ratio."
      ]
    },
    {
      "cell_type": "markdown",
      "metadata": {
        "id": "KB0KxrK4BdBv"
      },
      "source": [
        "## Q2\n",
        "\n",
        "Implement each metric you described above and generate a sorted (ranked) list of states from \"best\" to \"worst\" financial deal from the federal government. Your submission should include the ranked list for each metric as output from your code.\n"
      ]
    },
    {
      "cell_type": "code",
      "metadata": {
        "id": "SFXKCNjU_t1m"
      },
      "source": [
        "# Implement your first metric here.\n",
        "# Metric 1 is the proportion of each state's federal funding in total funding \n",
        "# And the formula is sum(federal_revenue) / sum(revenue)\n",
        "def metric_1(districts_list):\n",
        "  total_revenue = {} # calculate total revenue of each state\n",
        "  total_federal_revenue = {} # calculate total federal_revenue of each state\n",
        "  for item in districts_list:\n",
        "    total_revenue[item['state']] = total_revenue.get(item['state'],0) + item['revenue']\n",
        "    total_federal_revenue[item['state']] = total_federal_revenue.get(item['state'],0) + item['federal_revenue']\n",
        "\n",
        "  # calculate the proportion\n",
        "  federal_revenue_proportion = {}\n",
        "  for key in total_revenue:\n",
        "    if total_federal_revenue.get(key):\n",
        "      federal_revenue_proportion[key] = (total_federal_revenue[key] / total_revenue[key]) * 100  # with the value in percentage(%) format\n",
        "\n",
        "  return sorted(federal_revenue_proportion.items(), key = lambda item:item[1],reverse = True) # rank the results from high to low"
      ],
      "execution_count": null,
      "outputs": []
    },
    {
      "cell_type": "code",
      "metadata": {
        "colab": {
          "base_uri": "https://localhost:8080/"
        },
        "id": "s1X-J7Ua00oI",
        "outputId": "91e318b5-1dca-4b75-8aa2-ed3356c2fec2"
      },
      "source": [
        "metric_1(districts_list)"
      ],
      "execution_count": null,
      "outputs": [
        {
          "output_type": "execute_result",
          "data": {
            "text/plain": [
              "[('Louisiana', 15.181995445749402),\n",
              " ('Mississippi', 14.84050797041844),\n",
              " ('South Dakota', 13.838318226545338),\n",
              " ('New Mexico', 12.718679727102947),\n",
              " ('Arizona', 12.38279980581979),\n",
              " ('Alaska', 12.11460943031492),\n",
              " ('Florida', 11.933780212200098),\n",
              " ('Tennessee', 11.8575757687289),\n",
              " ('Montana', 11.646066245399625),\n",
              " ('Oklahoma', 11.429327845829887),\n",
              " ('Kentucky', 11.421277073668263),\n",
              " ('North Carolina', 11.149171945246405),\n",
              " ('Idaho', 11.025019408780121),\n",
              " ('Alabama', 10.747158504839478),\n",
              " ('Texas', 10.712524685907143),\n",
              " ('Arkansas', 10.656251659547996),\n",
              " ('Hawaii', 10.642330434073198),\n",
              " ('California', 10.241354663662186),\n",
              " ('Georgia', 10.070846949713603),\n",
              " ('West Virginia', 10.013317632505608),\n",
              " ('District of Columbia', 9.92591982208876),\n",
              " ('North Dakota', 9.917961575686448),\n",
              " ('South Carolina', 9.581302428100136),\n",
              " ('Nevada', 8.919143544537988),\n",
              " ('Missouri', 8.795716805561321),\n",
              " ('Michigan', 8.766084905672264),\n",
              " ('Utah', 8.68231377448409),\n",
              " ('Rhode Island', 8.085081044232451),\n",
              " ('Nebraska', 7.944290889842676),\n",
              " ('Washington', 7.900492772370268),\n",
              " ('Oregon', 7.875553498889263),\n",
              " ('Indiana', 7.851000388987756),\n",
              " ('Ohio', 7.542883341817914),\n",
              " ('Colorado', 7.454214601066555),\n",
              " ('Illinois', 7.404827663542887),\n",
              " ('Kansas', 7.333189312959008),\n",
              " ('Wisconsin', 7.330533572374774),\n",
              " ('Iowa', 7.056863087692427),\n",
              " ('Delaware', 6.841207604756396),\n",
              " ('Maine', 6.784313324963177),\n",
              " ('Virginia', 6.578499337562456),\n",
              " ('Wyoming', 6.358281719904797),\n",
              " ('Pennsylvania', 6.262525222630015),\n",
              " ('Maryland', 5.836083905761355),\n",
              " ('Minnesota', 5.714639449095551),\n",
              " ('New York', 5.456807607486856),\n",
              " ('Vermont', 5.393607046101415),\n",
              " ('New Hampshire', 5.304156557136029),\n",
              " ('Massachusetts', 4.830662334547848),\n",
              " ('New Jersey', 4.092057623823513),\n",
              " ('Connecticut', 4.065530798267763)]"
            ]
          },
          "metadata": {},
          "execution_count": 16
        }
      ]
    },
    {
      "cell_type": "code",
      "metadata": {
        "id": "P08gnAMGBvDp"
      },
      "source": [
        "# Implement your second metric here.\n",
        "# Metric 2 is the ratio of state's per capita to federal's average per capita\n",
        "# And the formula is per capita of each state / federal's per capita\n",
        "# federal's per capita = sum(federal_revenue) / sum(population)\n",
        "def metric_2(districts_list,state_populations):\n",
        "  # calculate the federal's per capita\n",
        "    # calculate the total federal_revenue\n",
        "  total_federal = {}\n",
        "  for item in districts_list:\n",
        "    total_federal[item['state']] = total_federal.get(item['state'],0) + item['federal_revenue'] \n",
        "  sum_federal_revenue = 0\n",
        "  for i in total_federal:\n",
        "    sum_federal_revenue = sum_federal_revenue + total_federal[i]\n",
        "\n",
        "   # calculate the totol populations\n",
        "  sum_populations = 0\n",
        "  for i in state_populations: # ignore the population statistis of Puerto Rico, because this state has no funding data\n",
        "    if i != 'Puerto Rico':\n",
        "      sum_populations = sum_populations + state_populations[i]\n",
        "\n",
        "    # calculate the average per capita of the whole federal\n",
        "  per_capita_federal = sum_federal_revenue / sum_populations * 1000\n",
        "  \n",
        "  # calculate the per capita of each state\n",
        "  federal_revenue_each_state = {}  # create a list to store federal revenue each state\n",
        "  for item in districts_list:\n",
        "    federal_revenue_each_state[item['state']] = federal_revenue_each_state.get(item['state'],0) + item['federal_revenue']     \n",
        "\n",
        "    # calculate the per capita of every state\n",
        "  per_capita_each_state = {}\n",
        "  for key in state_populations:\n",
        "    if federal_revenue_each_state.get(key):\n",
        "      per_capita_each_state[key] = federal_revenue_each_state[key] / state_populations[key] * 1000\n",
        "\n",
        "    # calculate the ratio\n",
        "  ratio = {k:v/per_capita_federal for (k,v) in per_capita_each_state.items()}\n",
        "\n",
        "  return sorted(ratio.items(), key = lambda item:item[1], reverse = True) # rank the results from high to low"
      ],
      "execution_count": null,
      "outputs": []
    },
    {
      "cell_type": "code",
      "metadata": {
        "colab": {
          "base_uri": "https://localhost:8080/"
        },
        "id": "vNdrGaYlIxKi",
        "outputId": "50c44c2f-751f-49f6-d031-a53846630c0a"
      },
      "source": [
        "metric_2(districts_list,state_populations)"
      ],
      "execution_count": null,
      "outputs": [
        {
          "output_type": "stream",
          "name": "stdout",
          "text": [
            "[('Alaska', 2.4845520806924695), ('District of Columbia', 1.9629890941800043), ('Louisiana', 1.7060599835297314), ('Texas', 1.3296133316145875), ('North Dakota', 1.3237358670939119), ('New Mexico', 1.31190518151694), ('South Dakota', 1.3037937991186908), ('Mississippi', 1.2780536817963257), ('Hawaii', 1.2027648211940662), ('Montana', 1.1596492708540387), ('Wyoming', 1.1400386483892913), ('California', 1.134839984769168), ('Arkansas', 1.0984983126941943), ('Kentucky', 1.0848507404768384), ('West Virginia', 1.082848230078282), ('Rhode Island', 1.0663545877609069), ('Georgia', 1.0640749061019255), ('Oklahoma', 1.0510370466410792), ('Arizona', 1.0460607766789816), ('Illinois', 1.0228139125906557), ('South Carolina', 1.0198093116330047), ('Michigan', 1.003248633108739), ('Nebraska', 0.9932019093763534), ('New York', 0.9866241945621059), ('Tennessee', 0.9840300501561009), ('Alabama', 0.9513165774941506), ('Vermont', 0.9464682472520418), ('Florida', 0.9436419577005775), ('North Carolina', 0.9281585434571837), ('Ohio', 0.9128416714704084), ('Delaware', 0.9073847412811413), ('Indiana', 0.8818207565693921), ('Missouri', 0.881435450545516), ('Washington', 0.8734226518136443), ('Idaho', 0.8671486581371135), ('Pennsylvania', 0.8651623092558958), ('Iowa', 0.852593181868087), ('Utah', 0.8401505202993975), ('Wisconsin', 0.8326165370735721), ('Nevada', 0.8137632704748353), ('Maryland', 0.8057802843596594), ('Kansas', 0.8037635657923762), ('Maine', 0.7982295661770686), ('Colorado', 0.78142883945497), ('Oregon', 0.7759879099577874), ('New Jersey', 0.7699695444872212), ('Massachusetts', 0.7229446754532514), ('Minnesota', 0.7203842847625241), ('Virginia', 0.7194177430143185), ('Connecticut', 0.7035821989956079), ('New Hampshire', 0.6991423813387724)]\n"
          ]
        }
      ]
    },
    {
      "cell_type": "markdown",
      "metadata": {
        "id": "IimD-9ksBz05"
      },
      "source": [
        "## Q3\n"
      ]
    },
    {
      "cell_type": "markdown",
      "metadata": {
        "id": "fKAkDyHQct5d"
      },
      "source": [
        "***I recommend the second metric to rank states*** on how much federal financial aid they receive relative to other states. The main reason is that the metric 2 considers the population.\n",
        "\n",
        "The second metric represents the financial federal aid every person can receive in the state compared to the federal average level and it takes populations of states into consideration. Take the state of Pennsylvania as an example, the per capita is 151.76 dollars. The average per capita of the whole federal is 175.41 dollars. So the ratio is around 0.87. This number is smaller than 1, which represents that compared to the national level, people in Pennsylvania receive less. The second metric uses such method to make comparsions among states.\n",
        "\n",
        "Compared to Metric 1, I think Metric 2 has the following advantages:\n",
        "\n",
        "\n",
        "*   ***It contains both revenues and population data.*** Metric 1 only considers revenues regardless of the number of people living in the area. Since the beneficiary of the financial aid is citizens, we should take population sizes into consideration when making comparisons.\n",
        "*   ***It weakens the effect of gaps in economic development levels in each state and the impact of the local people's enthusiasm for joining in education funding.*** When using Metric 1, the proportion of federal funding is linked with the other two parts - local funding and state funding. In some economically developed states, the state government may invest more money in education. And some states may have many citizens who are more willing to put their money in education. The increasing in these numbers will reduce the proportion of federal funding, but it does not mean that the federal supports less on the state. Metric 2 can avoid this situation.\n",
        "\n",
        "So, I think Metric 2 is more appropriate to rank states in this set of questions.\n",
        "\n"
      ]
    },
    {
      "cell_type": "markdown",
      "metadata": {
        "id": "o0uzYHA6CEBz"
      },
      "source": [
        "# Extra Credit\n"
      ]
    },
    {
      "cell_type": "markdown",
      "metadata": {
        "id": "Hu03juPp-t9q"
      },
      "source": [
        "I want to explore more in two questions. ***The first one is the share of each state's education budget in the state's total annual financial budget, which gives me ideas on the importance of developing education from the perspective of government finance. The second one is the components of expenses, then finding out which parts of education spend more.***\n",
        "\n",
        "The first questiuon is to study the proportion of education budget in the total budget. Through the proportions, we can compare the distribution of government budgets in different states. The question is interesting because we can understand the relative importance of education through the perspective of budget allocation. Data analysts can compare budget allocations in different fields, and then assess wherther the budget is adequate according to the actual expenditures, and whether it is necessary to further increase the budget in the future development. \n",
        "\n",
        "The second question is to study the expenditure details of education expenses in public school districts and states. I think this question is interesting because it helps me have a basic understanding of the expenses structure and understand which parts pf education cost more than others. Data analysts can further analyze the cost details, understand the efficiency of capital use and budget priorities, and then make targeted policy recommendations, such as where to increase inputs and how to improve capital efficiency.\n",
        "\n",
        "For the first question, we have had funding and expenses data. We still need the total budget of each state and the budget in other public areas, such as infrastructure budget, culture affairs budget, technology budget and so on. We can easily use proportion of education budget in each state to proceed the analysis. And the proportion of education budget is equal to state's education budget divided by total annual budget of the state. Through the ratio, we can rank the states to find out states which spend more on education than others. Also, we judge whether the current budget can meet the needs and how to make the following policies.\n",
        "\n",
        "For the second question, now we only have the total expenses of each public school district. We need more detailed data to conduct analyses. The existd data cannot meet our needs. Key components of expenses, such as faculty expenditure, facilities expenditure, expenses on different levels of education period, such as primary, secondary, high school, etc. From the data, we can easily get the proportion by using the division formula. When we get the results, we can compare school districts and states, and observe the differences and key parts of expenditure in each state. "
      ]
    }
  ]
}